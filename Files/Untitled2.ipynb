{
 "cells": [
  {
   "cell_type": "code",
   "execution_count": 21,
   "id": "78918e2f",
   "metadata": {},
   "outputs": [],
   "source": [
    "import json\n",
    "import csv\n",
    "\n",
    "# Open the JSON file & load its data\n",
    "with open('train.json') as dat_file:\n",
    "    data = json.load(dat_file)\n",
    "ques_data = data['rows']\n",
    " \n",
    "# Opening a CSV file for writing in write mode\n",
    "data_file = open('train.csv', 'w') \n",
    "csv_writer = csv.writer(data_file)\n",
    "\n",
    "count = 0 \n",
    "for cnt in ques_data:\n",
    "    if count == 0:\n",
    "        header = cnt.keys()\n",
    "        csv_writer.writerow(header)\n",
    "        count += 1\n",
    "    \n",
    "    if count%2 == 0:\n",
    "        csv_writer.writerow(cnt['row'].values())\n",
    "    count += 1\n",
    "data_file.close()"
   ]
  },
  {
   "cell_type": "code",
   "execution_count": 12,
   "id": "ecd7651a",
   "metadata": {},
   "outputs": [
    {
     "name": "stdout",
     "output_type": "stream",
     "text": [
      "{'row_idx': 0, 'row': {'question_id': 'Q0', 'question': 'HOW AFRICAN AMERICANS WERE IMMIGRATED TO THE US', 'document_title': 'African immigration to the United States', 'answer': 'African immigration to the United States refers to immigrants to the United States who are or were nationals of Africa .', 'label': 0}, 'truncated_cells': []}\n",
      "{'row_idx': 1, 'row': {'question_id': 'Q0', 'question': 'HOW AFRICAN AMERICANS WERE IMMIGRATED TO THE US', 'document_title': 'African immigration to the United States', 'answer': 'The term African in the scope of this article refers to geographical or national origins rather than racial affiliation.', 'label': 0}, 'truncated_cells': []}\n",
      "{'row_idx': 2, 'row': {'question_id': 'Q0', 'question': 'HOW AFRICAN AMERICANS WERE IMMIGRATED TO THE US', 'document_title': 'African immigration to the United States', 'answer': 'From the Immigration and Nationality Act of 1965 to 2007, an estimated total of 0.8 to 0.9 million Africans immigrated to the United States, accounting for roughly 3.3% of total immigration to the United States during this period.', 'label': 0}, 'truncated_cells': []}\n",
      "{'row_idx': 3, 'row': {'question_id': 'Q0', 'question': 'HOW AFRICAN AMERICANS WERE IMMIGRATED TO THE US', 'document_title': 'African immigration to the United States', 'answer': 'African immigrants in the United States come from almost all regions in Africa and do not constitute a homogeneous group.', 'label': 0}, 'truncated_cells': []}\n",
      "{'row_idx': 4, 'row': {'question_id': 'Q0', 'question': 'HOW AFRICAN AMERICANS WERE IMMIGRATED TO THE US', 'document_title': 'African immigration to the United States', 'answer': 'They include people from different national, linguistic, ethnic, racial, cultural and social backgrounds.', 'label': 0}, 'truncated_cells': []}\n",
      "{'row_idx': 5, 'row': {'question_id': 'Q0', 'question': 'HOW AFRICAN AMERICANS WERE IMMIGRATED TO THE US', 'document_title': 'African immigration to the United States', 'answer': 'As such, African immigrants are to be distinguished from African American people, the latter of whom are descendants of mostly West and Central Africans who were involuntarily brought to the United States by means of the historic Atlantic slave trade .', 'label': 1}, 'truncated_cells': []}\n",
      "{'row_idx': 6, 'row': {'question_id': 'Q3', 'question': 'how large were early jails', 'document_title': 'Prison', 'answer': 'A prison (from Old French prisoun), also known as gaol or jail, is a place in which people are physically confined and usually deprived of a range of personal freedoms .', 'label': 0}, 'truncated_cells': []}\n",
      "{'row_idx': 7, 'row': {'question_id': 'Q3', 'question': 'how large were early jails', 'document_title': 'Prison', 'answer': 'Imprisonment or incarceration is a legal penalty that may be imposed by the state for the commission of a crime .', 'label': 0}, 'truncated_cells': []}\n",
      "{'row_idx': 8, 'row': {'question_id': 'Q3', 'question': 'how large were early jails', 'document_title': 'Prison', 'answer': 'Other terms used are penitentiary, correctional facility, remand centre, detention centre, and gaol or jail.', 'label': 0}, 'truncated_cells': []}\n",
      "{'row_idx': 9, 'row': {'question_id': 'Q3', 'question': 'how large were early jails', 'document_title': 'Prison', 'answer': 'In some legal systems some of these terms have distinct meanings.', 'label': 0}, 'truncated_cells': []}\n",
      "{'row_idx': 10, 'row': {'question_id': 'Q3', 'question': 'how large were early jails', 'document_title': 'Prison', 'answer': 'A criminal suspect who has been charged with or is likely to be charged with criminal offense may be held on remand in prison if he or she is denied or unable to meet conditions of bail , or is unable or unwilling to post bail.', 'label': 0}, 'truncated_cells': []}\n",
      "{'row_idx': 11, 'row': {'question_id': 'Q3', 'question': 'how large were early jails', 'document_title': 'Prison', 'answer': 'A criminal defendant may also be held in prison while awaiting trial or a trial verdict .', 'label': 0}, 'truncated_cells': []}\n",
      "{'row_idx': 12, 'row': {'question_id': 'Q3', 'question': 'how large were early jails', 'document_title': 'Prison', 'answer': 'If found guilty, a defendant will be convicted and may receive a custodial sentence requiring imprisonment.', 'label': 0}, 'truncated_cells': []}\n",
      "{'row_idx': 13, 'row': {'question_id': 'Q3', 'question': 'how large were early jails', 'document_title': 'Prison', 'answer': 'As well as convicted or suspected criminals, prisons may be used for internment of those not charged with a crime.', 'label': 0}, 'truncated_cells': []}\n",
      "{'row_idx': 14, 'row': {'question_id': 'Q3', 'question': 'how large were early jails', 'document_title': 'Prison', 'answer': 'Prisons may also be used as a tool of political repression to detain political prisoners , prisoners of conscience , and \" enemies of the state \", particularly by authoritarian regimes.', 'label': 0}, 'truncated_cells': []}\n",
      "{'row_idx': 15, 'row': {'question_id': 'Q3', 'question': 'how large were early jails', 'document_title': 'Prison', 'answer': 'In times of war or conflict, prisoners of war may also be detained in prisons.', 'label': 0}, 'truncated_cells': []}\n",
      "{'row_idx': 16, 'row': {'question_id': 'Q3', 'question': 'how large were early jails', 'document_title': 'Prison', 'answer': 'A prison system is the organizational arrangement of the provision and operation of prisons.', 'label': 0}, 'truncated_cells': []}\n",
      "{'row_idx': 17, 'row': {'question_id': 'Q4', 'question': 'how a water pump works', 'document_title': 'Pump', 'answer': 'A small, electrically powered pump', 'label': 0}, 'truncated_cells': []}\n",
      "{'row_idx': 18, 'row': {'question_id': 'Q4', 'question': 'how a water pump works', 'document_title': 'Pump', 'answer': 'A large, electrically driven pump (electropump) for waterworks near the Hengsteysee , Germany .', 'label': 0}, 'truncated_cells': []}\n",
      "{'row_idx': 19, 'row': {'question_id': 'Q4', 'question': 'how a water pump works', 'document_title': 'Pump', 'answer': 'A pump is a device that moves fluids ( liquids or gases ), or sometimes slurries , by mechanical action.', 'label': 0}, 'truncated_cells': []}\n",
      "{'row_idx': 20, 'row': {'question_id': 'Q4', 'question': 'how a water pump works', 'document_title': 'Pump', 'answer': 'Pumps can be classified into three major groups according to the method they use to move the fluid: direct lift, displacement, and gravity pumps.', 'label': 0}, 'truncated_cells': []}\n",
      "{'row_idx': 21, 'row': {'question_id': 'Q4', 'question': 'how a water pump works', 'document_title': 'Pump', 'answer': 'Pumps operate by some mechanism (typically reciprocating or rotary ), and consume energy to perform mechanical work by moving the fluid.', 'label': 1}, 'truncated_cells': []}\n",
      "{'row_idx': 22, 'row': {'question_id': 'Q4', 'question': 'how a water pump works', 'document_title': 'Pump', 'answer': 'Pumps operate via many energy sources, including manual operation, electricity, engines , or wind power .', 'label': 0}, 'truncated_cells': []}\n",
      "{'row_idx': 23, 'row': {'question_id': 'Q20', 'question': 'how old was sue lyon when she made lolita', 'document_title': 'Lolita (1962 film)', 'answer': 'Lolita is a 1962 comedy-drama film by Stanley Kubrick based on the classic novel of the same title by Vladimir Nabokov , centres around a middle-aged man who becomes obsessed with a teenage girl.', 'label': 0}, 'truncated_cells': []}\n",
      "{'row_idx': 24, 'row': {'question_id': 'Q20', 'question': 'how old was sue lyon when she made lolita', 'document_title': 'Lolita (1962 film)', 'answer': 'The film stars James Mason as Humbert Humbert, Sue Lyon as Dolores Haze (Lolita) and Shelley Winters as Charlotte Haze with Peter Sellers as Clare Quilty.', 'label': 0}, 'truncated_cells': []}\n",
      "{'row_idx': 25, 'row': {'question_id': 'Q20', 'question': 'how old was sue lyon when she made lolita', 'document_title': 'Lolita (1962 film)', 'answer': \"Due to the MPAA 's restrictions at the time , the film toned down the more provocative aspects of the novel, sometimes leaving much to the audience's imagination.\", 'label': 0}, 'truncated_cells': []}\n",
      "{'row_idx': 26, 'row': {'question_id': 'Q20', 'question': 'how old was sue lyon when she made lolita', 'document_title': 'Lolita (1962 film)', 'answer': 'The actress who played Lolita, Sue Lyon , was fourteen at the time of filming.', 'label': 1}, 'truncated_cells': []}\n",
      "{'row_idx': 27, 'row': {'question_id': 'Q20', 'question': 'how old was sue lyon when she made lolita', 'document_title': 'Lolita (1962 film)', 'answer': 'Kubrick later commented that, had he realized how severe the censorship limitations were going to be, he probably never would have made the film.', 'label': 0}, 'truncated_cells': []}\n",
      "{'row_idx': 28, 'row': {'question_id': 'Q33', 'question': 'how are antibodies used in', 'document_title': 'antibody', 'answer': 'Each antibody binds to a specific antigen ; an interaction similar to a lock and key.', 'label': 0}, 'truncated_cells': []}\n",
      "{'row_idx': 29, 'row': {'question_id': 'Q33', 'question': 'how are antibodies used in', 'document_title': 'antibody', 'answer': 'An antibody (Ab), also known as an immunoglobulin (Ig), is a large Y-shaped protein produced by B-cells that is used by the immune system to identify and neutralize foreign objects such as bacteria and viruses .', 'label': 1}, 'truncated_cells': []}\n",
      "{'row_idx': 30, 'row': {'question_id': 'Q33', 'question': 'how are antibodies used in', 'document_title': 'antibody', 'answer': 'The antibody recognizes a unique part of the foreign target, called an antigen .', 'label': 1}, 'truncated_cells': []}\n",
      "{'row_idx': 31, 'row': {'question_id': 'Q33', 'question': 'how are antibodies used in', 'document_title': 'antibody', 'answer': 'Each tip of the \"Y\" of an antibody contains a paratope (a structure analogous to a lock) that is specific for one particular epitope (similarly analogous to a key) on an antigen, allowing these two structures to bind together with precision.', 'label': 1}, 'truncated_cells': []}\n",
      "{'row_idx': 32, 'row': {'question_id': 'Q33', 'question': 'how are antibodies used in', 'document_title': 'antibody', 'answer': 'Using this binding mechanism, an antibody can tag a microbe or an infected cell for attack by other parts of the immune system, or can neutralize its target directly (for example, by blocking a part of a microbe that is essential for its invasion and survival).', 'label': 1}, 'truncated_cells': []}\n",
      "{'row_idx': 33, 'row': {'question_id': 'Q33', 'question': 'how are antibodies used in', 'document_title': 'antibody', 'answer': 'The production of antibodies is the main function of the humoral immune system .', 'label': 0}, 'truncated_cells': []}\n",
      "{'row_idx': 34, 'row': {'question_id': 'Q33', 'question': 'how are antibodies used in', 'document_title': 'antibody', 'answer': 'Antibodies are secreted by a type of white blood cell called a plasma cell .', 'label': 0}, 'truncated_cells': []}\n",
      "{'row_idx': 35, 'row': {'question_id': 'Q33', 'question': 'how are antibodies used in', 'document_title': 'antibody', 'answer': 'Antibodies can occur in two physical forms, a soluble form that is secreted from the cell, and a membrane -bound form that is attached to the surface of a B cell and is referred to as the B cell receptor (BCR).', 'label': 0}, 'truncated_cells': []}\n",
      "{'row_idx': 36, 'row': {'question_id': 'Q33', 'question': 'how are antibodies used in', 'document_title': 'antibody', 'answer': 'The BCR is only found on the surface of B cells and facilitates the activation of these cells and their subsequent differentiation into either antibody factories called plasma cells , or memory B cells that will survive in the body and remember that same antigen so the B cells can respond faster upon future exposure.', 'label': 0}, 'truncated_cells': []}\n",
      "{'row_idx': 37, 'row': {'question_id': 'Q33', 'question': 'how are antibodies used in', 'document_title': 'antibody', 'answer': 'In most cases, interaction of the B cell with a T helper cell is necessary to produce full activation of the B cell and, therefore, antibody generation following antigen binding.', 'label': 0}, 'truncated_cells': []}\n",
      "{'row_idx': 38, 'row': {'question_id': 'Q33', 'question': 'how are antibodies used in', 'document_title': 'antibody', 'answer': 'Soluble antibodies are released into the blood and tissue fluids, as well as many secretions to continue to survey for invading microorganisms.', 'label': 0}, 'truncated_cells': []}\n",
      "{'row_idx': 39, 'row': {'question_id': 'Q33', 'question': 'how are antibodies used in', 'document_title': 'antibody', 'answer': 'Antibodies are glycoproteins belonging to the immunoglobulin superfamily ; the terms antibody and immunoglobulin are often used interchangeably.', 'label': 0}, 'truncated_cells': []}\n",
      "{'row_idx': 40, 'row': {'question_id': 'Q33', 'question': 'how are antibodies used in', 'document_title': 'antibody', 'answer': 'Antibodies are typically made of basic structural units鈥攅ach with two large heavy chains and two small light chains .', 'label': 0}, 'truncated_cells': []}\n",
      "{'row_idx': 41, 'row': {'question_id': 'Q33', 'question': 'how are antibodies used in', 'document_title': 'antibody', 'answer': 'There are several different types of antibody heavy chains, and several different kinds of antibodies, which are grouped into different isotypes based on which heavy chain they possess.', 'label': 0}, 'truncated_cells': []}\n",
      "{'row_idx': 42, 'row': {'question_id': 'Q33', 'question': 'how are antibodies used in', 'document_title': 'antibody', 'answer': 'Five different antibody isotypes are known in mammals, which perform different roles, and help direct the appropriate immune response for each different type of foreign object they encounter.', 'label': 0}, 'truncated_cells': []}\n",
      "{'row_idx': 43, 'row': {'question_id': 'Q33', 'question': 'how are antibodies used in', 'document_title': 'antibody', 'answer': 'Though the general structure of all antibodies is very similar, a small region at the tip of the protein is extremely variable, allowing millions of antibodies with slightly different tip structures, or antigen binding sites, to exist.', 'label': 0}, 'truncated_cells': []}\n",
      "{'row_idx': 44, 'row': {'question_id': 'Q33', 'question': 'how are antibodies used in', 'document_title': 'antibody', 'answer': 'This region is known as the hypervariable region.', 'label': 0}, 'truncated_cells': []}\n",
      "{'row_idx': 45, 'row': {'question_id': 'Q33', 'question': 'how are antibodies used in', 'document_title': 'antibody', 'answer': 'Each of these variants can bind to a different antigen.', 'label': 0}, 'truncated_cells': []}\n",
      "{'row_idx': 46, 'row': {'question_id': 'Q33', 'question': 'how are antibodies used in', 'document_title': 'antibody', 'answer': 'This enormous diversity of antibodies allows the immune system to recognize an equally wide variety of antigens.', 'label': 0}, 'truncated_cells': []}\n",
      "{'row_idx': 47, 'row': {'question_id': 'Q33', 'question': 'how are antibodies used in', 'document_title': 'antibody', 'answer': 'The large and diverse population of antibodies is generated by random combinations of a set of gene segments that encode different antigen binding sites (or paratopes), followed by random mutations in this area of the antibody gene, which create further diversity.', 'label': 0}, 'truncated_cells': []}\n",
      "{'row_idx': 48, 'row': {'question_id': 'Q33', 'question': 'how are antibodies used in', 'document_title': 'antibody', 'answer': 'Antibody genes also re-organize in a process called class switching that changes the base of the heavy chain to another, creating a different isotype of the antibody that retains the antigen specific variable region.', 'label': 0}, 'truncated_cells': []}\n",
      "{'row_idx': 49, 'row': {'question_id': 'Q33', 'question': 'how are antibodies used in', 'document_title': 'antibody', 'answer': 'This allows a single antibody to be used by several different parts of the immune system.', 'label': 0}, 'truncated_cells': []}\n",
      "{'row_idx': 50, 'row': {'question_id': 'Q47', 'question': 'how old is alicia in 2009', 'document_title': 'Alicia Keys', 'answer': 'Alicia Augello Cook (born January 25, 1981), known professionally as Alicia Keys, is an American R&B singer-songwriter , musician, record producer and actress.', 'label': 0}, 'truncated_cells': []}\n",
      "{'row_idx': 51, 'row': {'question_id': 'Q47', 'question': 'how old is alicia in 2009', 'document_title': 'Alicia Keys', 'answer': 'Keys released her debut album with J Records , having had previous record deals first with Columbia and then Arista Records .', 'label': 0}, 'truncated_cells': []}\n",
      "{'row_idx': 52, 'row': {'question_id': 'Q47', 'question': 'how old is alicia in 2009', 'document_title': 'Alicia Keys', 'answer': \"Keys' debut album, Songs in A Minor , was a commercial success, selling over 12 million copies worldwide.\", 'label': 0}, 'truncated_cells': []}\n",
      "{'row_idx': 53, 'row': {'question_id': 'Q47', 'question': 'how old is alicia in 2009', 'document_title': 'Alicia Keys', 'answer': 'She became the best-selling new artist and best-selling R&B artist of 2001.', 'label': 0}, 'truncated_cells': []}\n",
      "{'row_idx': 54, 'row': {'question_id': 'Q47', 'question': 'how old is alicia in 2009', 'document_title': 'Alicia Keys', 'answer': 'The album earned Keys five Grammy Awards in 2002, including Best New Artist and Song of the Year for \" Fallin\\' \" becoming the second American recording artist to win five Grammys in one night.', 'label': 0}, 'truncated_cells': []}\n",
      "{'row_idx': 55, 'row': {'question_id': 'Q47', 'question': 'how old is alicia in 2009', 'document_title': 'Alicia Keys', 'answer': 'Her second studio album, The Diary of Alicia Keys , was released in 2003 and was also another success worldwide, selling eight million copies.', 'label': 0}, 'truncated_cells': []}\n",
      "{'row_idx': 56, 'row': {'question_id': 'Q47', 'question': 'how old is alicia in 2009', 'document_title': 'Alicia Keys', 'answer': 'The album garnered her an additional four Grammy Awards in 2005.', 'label': 0}, 'truncated_cells': []}\n",
      "{'row_idx': 57, 'row': {'question_id': 'Q47', 'question': 'how old is alicia in 2009', 'document_title': 'Alicia Keys', 'answer': 'Later that year, she released her first live album, Unplugged , which debuted at number one in the United States.', 'label': 0}, 'truncated_cells': []}\n",
      "{'row_idx': 58, 'row': {'question_id': 'Q47', 'question': 'how old is alicia in 2009', 'document_title': 'Alicia Keys', 'answer': 'She became the first female to have an MTV Unplugged album to debut at number one and the highest since Nirvana in 1994.', 'label': 0}, 'truncated_cells': []}\n",
      "{'row_idx': 59, 'row': {'question_id': 'Q47', 'question': 'how old is alicia in 2009', 'document_title': 'Alicia Keys', 'answer': 'Keys made guest appearances on several television series in the following years, beginning with Charmed .', 'label': 0}, 'truncated_cells': []}\n",
      "{'row_idx': 60, 'row': {'question_id': 'Q47', 'question': 'how old is alicia in 2009', 'document_title': 'Alicia Keys', 'answer': \"She made her film debut in Smokin' Aces which included Ben Affleck, Andy Garcia, Chris Pine, Ryan Reynolds, Taraji P. Henson, Jeremy Piven and also went on to appear in The Nanny Diaries which starred Scarlett Johansson, Laura Linney, Paul Giamitti and Chris Evan in 2007.\", 'label': 0}, 'truncated_cells': []}\n",
      "{'row_idx': 61, 'row': {'question_id': 'Q47', 'question': 'how old is alicia in 2009', 'document_title': 'Alicia Keys', 'answer': 'Her third studio album, As I Am , was released in the same year and sold five million copies worldwide, earning Keys an additional three Grammy Awards.', 'label': 0}, 'truncated_cells': []}\n",
      "{'row_idx': 62, 'row': {'question_id': 'Q47', 'question': 'how old is alicia in 2009', 'document_title': 'Alicia Keys', 'answer': 'The following year, she appeared in The Secret Life of Bees with Eva Longoria, Jennifer Hudson, Paul Bettany, Dakota Fanning, Queen Latifah which earned her a nomination at the NAACP Image Awards .', 'label': 0}, 'truncated_cells': []}\n",
      "{'row_idx': 63, 'row': {'question_id': 'Q47', 'question': 'how old is alicia in 2009', 'document_title': 'Alicia Keys', 'answer': \"She released her fourth album, The Element of Freedom , in December 2009, which became Keys' first chart-topping album in the United Kingdom.\", 'label': 0}, 'truncated_cells': []}\n",
      "{'row_idx': 64, 'row': {'question_id': 'Q47', 'question': 'how old is alicia in 2009', 'document_title': 'Alicia Keys', 'answer': \"She released her fifth album, Girl on Fire , in November 2012, which became Keys' fifth chart-topping album in the United States.\", 'label': 0}, 'truncated_cells': []}\n",
      "{'row_idx': 65, 'row': {'question_id': 'Q47', 'question': 'how old is alicia in 2009', 'document_title': 'Alicia Keys', 'answer': 'Throughout her career, Keys has won numerous awards and has sold over 35 million albums and 30 million singles worldwide.', 'label': 0}, 'truncated_cells': []}\n",
      "{'row_idx': 66, 'row': {'question_id': 'Q47', 'question': 'how old is alicia in 2009', 'document_title': 'Alicia Keys', 'answer': 'Billboard magazine named her the top R&B songs artist of the 2000s decade.', 'label': 0}, 'truncated_cells': []}\n",
      "{'row_idx': 67, 'row': {'question_id': 'Q47', 'question': 'how old is alicia in 2009', 'document_title': 'Alicia Keys', 'answer': 'In 2010, VH1 included Keys on its list of the 100 Greatest Artists of All Time.', 'label': 0}, 'truncated_cells': []}\n",
      "{'row_idx': 68, 'row': {'question_id': 'Q47', 'question': 'how old is alicia in 2009', 'document_title': 'Alicia Keys', 'answer': 'Billboard magazine placed her number ten on their list of Top 50 R&B/Hip-Hop Artists of the Past 25 Years.', 'label': 0}, 'truncated_cells': []}\n",
      "{'row_idx': 69, 'row': {'question_id': 'Q47', 'question': 'how old is alicia in 2009', 'document_title': 'Alicia Keys', 'answer': 'BlackBerry (formerly RIM) named her as its Global Creative Director at the Blackberry 10 Experience event in New York City on January 30, 2013.', 'label': 0}, 'truncated_cells': []}\n",
      "{'row_idx': 70, 'row': {'question_id': 'Q47', 'question': 'how old is alicia in 2009', 'document_title': 'Alicia Keys', 'answer': 'Keys then opened Super Bowl XLVII in New Orleans, Louisiana on February 3, 2013, by singing the U.S. National Anthem .', 'label': 0}, 'truncated_cells': []}\n",
      "{'row_idx': 71, 'row': {'question_id': 'Q47', 'question': 'how old is alicia in 2009', 'document_title': 'Alicia Keys', 'answer': 'At the 55th annual Grammy Awards, Keys performed with Maroon 5 singing a duet with their songs Daylight and Girl On Fire', 'label': 0}, 'truncated_cells': []}\n",
      "{'row_idx': 72, 'row': {'question_id': 'Q49', 'question': 'how big is a land section generally', 'document_title': 'Section (United States land surveying)', 'answer': 'Sectioning a township .', 'label': 0}, 'truncated_cells': []}\n",
      "{'row_idx': 73, 'row': {'question_id': 'Q49', 'question': 'how big is a land section generally', 'document_title': 'Section (United States land surveying)', 'answer': 'Perfectly square full sections of farmland cover Central Indiana .', 'label': 0}, 'truncated_cells': []}\n",
      "{'row_idx': 74, 'row': {'question_id': 'Q49', 'question': 'how big is a land section generally', 'document_title': 'Section (United States land surveying)', 'answer': 'Satellite image of crops growing in Kansas , mainly using center pivot irrigation .', 'label': 0}, 'truncated_cells': []}\n",
      "{'row_idx': 75, 'row': {'question_id': 'Q49', 'question': 'how big is a land section generally', 'document_title': 'Section (United States land surveying)', 'answer': 'The primary grid pattern is of quarter sections (0.5 mi x 0.5 mi).', 'label': 0}, 'truncated_cells': []}\n",
      "{'row_idx': 76, 'row': {'question_id': 'Q49', 'question': 'how big is a land section generally', 'document_title': 'Section (United States land surveying)', 'answer': 'In U.S. land surveying under the Public Land Survey System (PLSS), a section is an area nominally one square mile , containing , with 36 sections making up one survey township on a rectangular grid.', 'label': 0}, 'truncated_cells': []}\n",
      "{'row_idx': 77, 'row': {'question_id': 'Q49', 'question': 'how big is a land section generally', 'document_title': 'Section (United States land surveying)', 'answer': 'The legal description of a tract of land under the PLSS includes the name of the state , name of the county , township number, range number, section number, and portion of a section.', 'label': 0}, 'truncated_cells': []}\n",
      "{'row_idx': 78, 'row': {'question_id': 'Q49', 'question': 'how big is a land section generally', 'document_title': 'Section (United States land surveying)', 'answer': 'Sections are customarily surveyed into smaller squares by repeated halving and quartering.', 'label': 0}, 'truncated_cells': []}\n",
      "{'row_idx': 79, 'row': {'question_id': 'Q49', 'question': 'how big is a land section generally', 'document_title': 'Section (United States land surveying)', 'answer': 'A quarter section is 160 acres and a \"quarter-quarter section\" is .', 'label': 0}, 'truncated_cells': []}\n",
      "{'row_idx': 80, 'row': {'question_id': 'Q49', 'question': 'how big is a land section generally', 'document_title': 'Section (United States land surveying)', 'answer': 'In 1832 the smallest area of land that could be acquired was reduced to the 40 acre quarter-quarter section, and this size parcel became entrenched in American mythology.', 'label': 0}, 'truncated_cells': []}\n",
      "{'row_idx': 81, 'row': {'question_id': 'Q49', 'question': 'how big is a land section generally', 'document_title': 'Section (United States land surveying)', 'answer': 'After the Civil War Freedmen (freed slaves) were reckoned to be self-sufficient with \" 40 acres and a mule .\"', 'label': 0}, 'truncated_cells': []}\n",
      "{'row_idx': 82, 'row': {'question_id': 'Q49', 'question': 'how big is a land section generally', 'document_title': 'Section (United States land surveying)', 'answer': 'In the 20th century real estate developers preferred working with 40 acre parcels.', 'label': 0}, 'truncated_cells': []}\n",
      "{'row_idx': 83, 'row': {'question_id': 'Q49', 'question': 'how big is a land section generally', 'document_title': 'Section (United States land surveying)', 'answer': 'The phrases \"front 40\" and \"back 40,\" referring to farm fields, indicate quarter-quarter sections of land.', 'label': 0}, 'truncated_cells': []}\n",
      "{'row_idx': 84, 'row': {'question_id': 'Q49', 'question': 'how big is a land section generally', 'document_title': 'Section (United States land surveying)', 'answer': 'One of the reasons for creating sections of 640 acres was the ease of dividing into halves and quarters while still maintaining a whole number of acres.', 'label': 0}, 'truncated_cells': []}\n",
      "{'row_idx': 85, 'row': {'question_id': 'Q49', 'question': 'how big is a land section generally', 'document_title': 'Section (United States land surveying)', 'answer': 'A section can be halved seven times in this way, down to a parcel, or half of a quarter-quarter-quarter section鈥攁n easily surveyed 50 square chain area.', 'label': 0}, 'truncated_cells': []}\n",
      "{'row_idx': 86, 'row': {'question_id': 'Q49', 'question': 'how big is a land section generally', 'document_title': 'Section (United States land surveying)', 'answer': 'This system was of great practical value on the American frontier, where surveyors often had a shaky grasp of mathematics and were required to work quickly.', 'label': 0}, 'truncated_cells': []}\n",
      "{'row_idx': 87, 'row': {'question_id': 'Q49', 'question': 'how big is a land section generally', 'document_title': 'Section (United States land surveying)', 'answer': 'A description of a quarter-quarter section in standard abbreviated form, might look like \"NW 1/4, NE 1/4, Sec. 34, T.3S, R.1W, 1st P.M.\".', 'label': 0}, 'truncated_cells': []}\n",
      "{'row_idx': 88, 'row': {'question_id': 'Q49', 'question': 'how big is a land section generally', 'document_title': 'Section (United States land surveying)', 'answer': 'In expanded form this would read \"the Northwest quarter of the Northeast quarter of Section 34 of Township 3 South, Range 1 West, first Principal Meridian\".', 'label': 0}, 'truncated_cells': []}\n",
      "{'row_idx': 89, 'row': {'question_id': 'Q54', 'question': \"how old was shakespeare's juliet\", 'document_title': 'Juliet', 'answer': \"Juliet is one of the title characters in William Shakespeare 's romantic love tragedy Romeo and Juliet , the other being Romeo .\", 'label': 0}, 'truncated_cells': []}\n",
      "{'row_idx': 90, 'row': {'question_id': 'Q54', 'question': \"how old was shakespeare's juliet\", 'document_title': 'Juliet', 'answer': \"She serves as the play's female protagonist .\", 'label': 0}, 'truncated_cells': []}\n",
      "{'row_idx': 91, 'row': {'question_id': 'Q54', 'question': \"how old was shakespeare's juliet\", 'document_title': 'Juliet', 'answer': 'Juliet is the only daughter of Capulet , the patriarch of the Capulet family.', 'label': 0}, 'truncated_cells': []}\n",
      "{'row_idx': 92, 'row': {'question_id': 'Q54', 'question': \"how old was shakespeare's juliet\", 'document_title': 'Juliet', 'answer': 'The story has a long history that precedes Shakespeare himself.', 'label': 0}, 'truncated_cells': []}\n",
      "{'row_idx': 93, 'row': {'question_id': 'Q57', 'question': 'how are fire bricks made', 'document_title': 'Fire brick', 'answer': 'Refractory bricks in a torpedo car used for hauling molten iron', 'label': 0}, 'truncated_cells': []}\n",
      "{'row_idx': 94, 'row': {'question_id': 'Q57', 'question': 'how are fire bricks made', 'document_title': 'Fire brick', 'answer': 'A fire brick, firebrick, or refractory brick is a block of refractory ceramic material used in lining furnaces , kilns , fireboxes , and fireplaces .', 'label': 0}, 'truncated_cells': []}\n",
      "{'row_idx': 95, 'row': {'question_id': 'Q57', 'question': 'how are fire bricks made', 'document_title': 'Fire brick', 'answer': 'A refractory brick is built primarily to withstand high temperature, but will also usually have a low thermal conductivity for greater energy efficiency.', 'label': 0}, 'truncated_cells': []}\n",
      "{'row_idx': 96, 'row': {'question_id': 'Q57', 'question': 'how are fire bricks made', 'document_title': 'Fire brick', 'answer': 'Usually dense firebricks are used in applications with extreme mechanical, chemical, or thermal stresses, such as the inside of a wood-fired kiln or a furnace, which is subject to abrasion from wood , fluxing from ash or slag, and high temperatures.', 'label': 0}, 'truncated_cells': []}\n",
      "{'row_idx': 97, 'row': {'question_id': 'Q57', 'question': 'how are fire bricks made', 'document_title': 'Fire brick', 'answer': 'In other, less harsh situations, such as in an electric or natural gas fired kiln , more porous bricks, commonly known as \"kiln bricks\" are a better choice.', 'label': 0}, 'truncated_cells': []}\n",
      "{'row_idx': 98, 'row': {'question_id': 'Q57', 'question': 'how are fire bricks made', 'document_title': 'Fire brick', 'answer': 'They are weaker, but they are much lighter, easier to form, and insulate far better than dense bricks.', 'label': 0}, 'truncated_cells': []}\n",
      "{'row_idx': 99, 'row': {'question_id': 'Q57', 'question': 'how are fire bricks made', 'document_title': 'Fire brick', 'answer': 'In any case, firebricks should not spall under rapid temperature change, and their strength should hold up well during rapid temperature changes.', 'label': 0}, 'truncated_cells': []}\n"
     ]
    }
   ],
   "source": [
    "import json\n",
    "import csv\n",
    "\n",
    "# Open the JSON file & load its data\n",
    "with open('qa.json') as dat_file:\n",
    "    data = json.load(dat_file)\n",
    "ques_data = data['rows']\n",
    "\n",
    "\n",
    "count = 0 \n",
    "for cnt in ques_data:\n",
    "    print(cnt)\n",
    "data_file.close()"
   ]
  },
  {
   "cell_type": "code",
   "execution_count": 20,
   "id": "7247037f",
   "metadata": {},
   "outputs": [
    {
     "data": {
      "text/plain": [
       "1"
      ]
     },
     "execution_count": 20,
     "metadata": {},
     "output_type": "execute_result"
    }
   ],
   "source": [
    "7%2\n"
   ]
  },
  {
   "cell_type": "code",
   "execution_count": 51,
   "id": "41e66ab7",
   "metadata": {},
   "outputs": [
    {
     "ename": "ParserError",
     "evalue": "Error tokenizing data. C error: Expected 1 fields in line 5, saw 2\n",
     "output_type": "error",
     "traceback": [
      "\u001b[1;31m---------------------------------------------------------------------------\u001b[0m",
      "\u001b[1;31mParserError\u001b[0m                               Traceback (most recent call last)",
      "\u001b[1;32m<ipython-input-51-721020f5a054>\u001b[0m in \u001b[0;36m<module>\u001b[1;34m\u001b[0m\n\u001b[0;32m      1\u001b[0m \u001b[1;32mimport\u001b[0m \u001b[0mpandas\u001b[0m \u001b[1;32mas\u001b[0m \u001b[0mpd\u001b[0m\u001b[1;33m\u001b[0m\u001b[1;33m\u001b[0m\u001b[0m\n\u001b[0;32m      2\u001b[0m \u001b[1;33m\u001b[0m\u001b[0m\n\u001b[1;32m----> 3\u001b[1;33m \u001b[0mread_file\u001b[0m \u001b[1;33m=\u001b[0m \u001b[0mpd\u001b[0m\u001b[1;33m.\u001b[0m\u001b[0mread_csv\u001b[0m \u001b[1;33m(\u001b[0m\u001b[1;34m'WikiQA-train.txt'\u001b[0m\u001b[1;33m,\u001b[0m\u001b[0mencoding\u001b[0m \u001b[1;33m=\u001b[0m \u001b[1;34m'utf-8'\u001b[0m\u001b[1;33m)\u001b[0m\u001b[1;33m\u001b[0m\u001b[1;33m\u001b[0m\u001b[0m\n\u001b[0m\u001b[0;32m      4\u001b[0m \u001b[0mread_file\u001b[0m\u001b[1;33m.\u001b[0m\u001b[0mto_csv\u001b[0m \u001b[1;33m(\u001b[0m\u001b[1;34m'train.csv'\u001b[0m\u001b[1;33m,\u001b[0m \u001b[0mindex\u001b[0m\u001b[1;33m=\u001b[0m\u001b[1;32mNone\u001b[0m\u001b[1;33m)\u001b[0m\u001b[1;33m\u001b[0m\u001b[1;33m\u001b[0m\u001b[0m\n",
      "\u001b[1;32m~\\anaconda3\\lib\\site-packages\\pandas\\io\\parsers.py\u001b[0m in \u001b[0;36mread_csv\u001b[1;34m(filepath_or_buffer, sep, delimiter, header, names, index_col, usecols, squeeze, prefix, mangle_dupe_cols, dtype, engine, converters, true_values, false_values, skipinitialspace, skiprows, skipfooter, nrows, na_values, keep_default_na, na_filter, verbose, skip_blank_lines, parse_dates, infer_datetime_format, keep_date_col, date_parser, dayfirst, cache_dates, iterator, chunksize, compression, thousands, decimal, lineterminator, quotechar, quoting, doublequote, escapechar, comment, encoding, dialect, error_bad_lines, warn_bad_lines, delim_whitespace, low_memory, memory_map, float_precision, storage_options)\u001b[0m\n\u001b[0;32m    608\u001b[0m     \u001b[0mkwds\u001b[0m\u001b[1;33m.\u001b[0m\u001b[0mupdate\u001b[0m\u001b[1;33m(\u001b[0m\u001b[0mkwds_defaults\u001b[0m\u001b[1;33m)\u001b[0m\u001b[1;33m\u001b[0m\u001b[1;33m\u001b[0m\u001b[0m\n\u001b[0;32m    609\u001b[0m \u001b[1;33m\u001b[0m\u001b[0m\n\u001b[1;32m--> 610\u001b[1;33m     \u001b[1;32mreturn\u001b[0m \u001b[0m_read\u001b[0m\u001b[1;33m(\u001b[0m\u001b[0mfilepath_or_buffer\u001b[0m\u001b[1;33m,\u001b[0m \u001b[0mkwds\u001b[0m\u001b[1;33m)\u001b[0m\u001b[1;33m\u001b[0m\u001b[1;33m\u001b[0m\u001b[0m\n\u001b[0m\u001b[0;32m    611\u001b[0m \u001b[1;33m\u001b[0m\u001b[0m\n\u001b[0;32m    612\u001b[0m \u001b[1;33m\u001b[0m\u001b[0m\n",
      "\u001b[1;32m~\\anaconda3\\lib\\site-packages\\pandas\\io\\parsers.py\u001b[0m in \u001b[0;36m_read\u001b[1;34m(filepath_or_buffer, kwds)\u001b[0m\n\u001b[0;32m    466\u001b[0m \u001b[1;33m\u001b[0m\u001b[0m\n\u001b[0;32m    467\u001b[0m     \u001b[1;32mwith\u001b[0m \u001b[0mparser\u001b[0m\u001b[1;33m:\u001b[0m\u001b[1;33m\u001b[0m\u001b[1;33m\u001b[0m\u001b[0m\n\u001b[1;32m--> 468\u001b[1;33m         \u001b[1;32mreturn\u001b[0m \u001b[0mparser\u001b[0m\u001b[1;33m.\u001b[0m\u001b[0mread\u001b[0m\u001b[1;33m(\u001b[0m\u001b[0mnrows\u001b[0m\u001b[1;33m)\u001b[0m\u001b[1;33m\u001b[0m\u001b[1;33m\u001b[0m\u001b[0m\n\u001b[0m\u001b[0;32m    469\u001b[0m \u001b[1;33m\u001b[0m\u001b[0m\n\u001b[0;32m    470\u001b[0m \u001b[1;33m\u001b[0m\u001b[0m\n",
      "\u001b[1;32m~\\anaconda3\\lib\\site-packages\\pandas\\io\\parsers.py\u001b[0m in \u001b[0;36mread\u001b[1;34m(self, nrows)\u001b[0m\n\u001b[0;32m   1055\u001b[0m     \u001b[1;32mdef\u001b[0m \u001b[0mread\u001b[0m\u001b[1;33m(\u001b[0m\u001b[0mself\u001b[0m\u001b[1;33m,\u001b[0m \u001b[0mnrows\u001b[0m\u001b[1;33m=\u001b[0m\u001b[1;32mNone\u001b[0m\u001b[1;33m)\u001b[0m\u001b[1;33m:\u001b[0m\u001b[1;33m\u001b[0m\u001b[1;33m\u001b[0m\u001b[0m\n\u001b[0;32m   1056\u001b[0m         \u001b[0mnrows\u001b[0m \u001b[1;33m=\u001b[0m \u001b[0mvalidate_integer\u001b[0m\u001b[1;33m(\u001b[0m\u001b[1;34m\"nrows\"\u001b[0m\u001b[1;33m,\u001b[0m \u001b[0mnrows\u001b[0m\u001b[1;33m)\u001b[0m\u001b[1;33m\u001b[0m\u001b[1;33m\u001b[0m\u001b[0m\n\u001b[1;32m-> 1057\u001b[1;33m         \u001b[0mindex\u001b[0m\u001b[1;33m,\u001b[0m \u001b[0mcolumns\u001b[0m\u001b[1;33m,\u001b[0m \u001b[0mcol_dict\u001b[0m \u001b[1;33m=\u001b[0m \u001b[0mself\u001b[0m\u001b[1;33m.\u001b[0m\u001b[0m_engine\u001b[0m\u001b[1;33m.\u001b[0m\u001b[0mread\u001b[0m\u001b[1;33m(\u001b[0m\u001b[0mnrows\u001b[0m\u001b[1;33m)\u001b[0m\u001b[1;33m\u001b[0m\u001b[1;33m\u001b[0m\u001b[0m\n\u001b[0m\u001b[0;32m   1058\u001b[0m \u001b[1;33m\u001b[0m\u001b[0m\n\u001b[0;32m   1059\u001b[0m         \u001b[1;32mif\u001b[0m \u001b[0mindex\u001b[0m \u001b[1;32mis\u001b[0m \u001b[1;32mNone\u001b[0m\u001b[1;33m:\u001b[0m\u001b[1;33m\u001b[0m\u001b[1;33m\u001b[0m\u001b[0m\n",
      "\u001b[1;32m~\\anaconda3\\lib\\site-packages\\pandas\\io\\parsers.py\u001b[0m in \u001b[0;36mread\u001b[1;34m(self, nrows)\u001b[0m\n\u001b[0;32m   2059\u001b[0m     \u001b[1;32mdef\u001b[0m \u001b[0mread\u001b[0m\u001b[1;33m(\u001b[0m\u001b[0mself\u001b[0m\u001b[1;33m,\u001b[0m \u001b[0mnrows\u001b[0m\u001b[1;33m=\u001b[0m\u001b[1;32mNone\u001b[0m\u001b[1;33m)\u001b[0m\u001b[1;33m:\u001b[0m\u001b[1;33m\u001b[0m\u001b[1;33m\u001b[0m\u001b[0m\n\u001b[0;32m   2060\u001b[0m         \u001b[1;32mtry\u001b[0m\u001b[1;33m:\u001b[0m\u001b[1;33m\u001b[0m\u001b[1;33m\u001b[0m\u001b[0m\n\u001b[1;32m-> 2061\u001b[1;33m             \u001b[0mdata\u001b[0m \u001b[1;33m=\u001b[0m \u001b[0mself\u001b[0m\u001b[1;33m.\u001b[0m\u001b[0m_reader\u001b[0m\u001b[1;33m.\u001b[0m\u001b[0mread\u001b[0m\u001b[1;33m(\u001b[0m\u001b[0mnrows\u001b[0m\u001b[1;33m)\u001b[0m\u001b[1;33m\u001b[0m\u001b[1;33m\u001b[0m\u001b[0m\n\u001b[0m\u001b[0;32m   2062\u001b[0m         \u001b[1;32mexcept\u001b[0m \u001b[0mStopIteration\u001b[0m\u001b[1;33m:\u001b[0m\u001b[1;33m\u001b[0m\u001b[1;33m\u001b[0m\u001b[0m\n\u001b[0;32m   2063\u001b[0m             \u001b[1;32mif\u001b[0m \u001b[0mself\u001b[0m\u001b[1;33m.\u001b[0m\u001b[0m_first_chunk\u001b[0m\u001b[1;33m:\u001b[0m\u001b[1;33m\u001b[0m\u001b[1;33m\u001b[0m\u001b[0m\n",
      "\u001b[1;32mpandas\\_libs\\parsers.pyx\u001b[0m in \u001b[0;36mpandas._libs.parsers.TextReader.read\u001b[1;34m()\u001b[0m\n",
      "\u001b[1;32mpandas\\_libs\\parsers.pyx\u001b[0m in \u001b[0;36mpandas._libs.parsers.TextReader._read_low_memory\u001b[1;34m()\u001b[0m\n",
      "\u001b[1;32mpandas\\_libs\\parsers.pyx\u001b[0m in \u001b[0;36mpandas._libs.parsers.TextReader._read_rows\u001b[1;34m()\u001b[0m\n",
      "\u001b[1;32mpandas\\_libs\\parsers.pyx\u001b[0m in \u001b[0;36mpandas._libs.parsers.TextReader._tokenize_rows\u001b[1;34m()\u001b[0m\n",
      "\u001b[1;32mpandas\\_libs\\parsers.pyx\u001b[0m in \u001b[0;36mpandas._libs.parsers.raise_parser_error\u001b[1;34m()\u001b[0m\n",
      "\u001b[1;31mParserError\u001b[0m: Error tokenizing data. C error: Expected 1 fields in line 5, saw 2\n"
     ]
    }
   ],
   "source": [
    "import pandas as pd\n",
    "\n",
    "read_file = pd.read_csv ('WikiQA-train.txt',encoding = 'utf-8')\n",
    "read_file.to_csv ('train.csv', index=None)"
   ]
  },
  {
   "cell_type": "code",
   "execution_count": 27,
   "id": "bcf5468e",
   "metadata": {},
   "outputs": [
    {
     "ename": "UnicodeDecodeError",
     "evalue": "'gbk' codec can't decode byte 0x93 in position 3034: illegal multibyte sequence",
     "output_type": "error",
     "traceback": [
      "\u001b[1;31m---------------------------------------------------------------------------\u001b[0m",
      "\u001b[1;31mUnicodeDecodeError\u001b[0m                        Traceback (most recent call last)",
      "\u001b[1;32m<ipython-input-27-dd244c5170a1>\u001b[0m in \u001b[0;36m<module>\u001b[1;34m\u001b[0m\n\u001b[0;32m      4\u001b[0m \u001b[1;32mwith\u001b[0m \u001b[0mopen\u001b[0m\u001b[1;33m(\u001b[0m\u001b[1;34m\"WikiQA-train.tsv\"\u001b[0m\u001b[1;33m,\u001b[0m \u001b[1;34m'r'\u001b[0m\u001b[1;33m)\u001b[0m \u001b[1;32mas\u001b[0m \u001b[0mmyfile\u001b[0m\u001b[1;33m:\u001b[0m\u001b[1;33m\u001b[0m\u001b[1;33m\u001b[0m\u001b[0m\n\u001b[0;32m      5\u001b[0m   \u001b[1;32mwith\u001b[0m \u001b[0mopen\u001b[0m\u001b[1;33m(\u001b[0m\u001b[1;34m\"WikiQA-train.csv\"\u001b[0m\u001b[1;33m,\u001b[0m \u001b[1;34m'w'\u001b[0m\u001b[1;33m)\u001b[0m \u001b[1;32mas\u001b[0m \u001b[0mcsv_file\u001b[0m\u001b[1;33m:\u001b[0m\u001b[1;33m\u001b[0m\u001b[1;33m\u001b[0m\u001b[0m\n\u001b[1;32m----> 6\u001b[1;33m     \u001b[1;32mfor\u001b[0m \u001b[0mline\u001b[0m \u001b[1;32min\u001b[0m \u001b[0mmyfile\u001b[0m\u001b[1;33m:\u001b[0m\u001b[1;33m\u001b[0m\u001b[1;33m\u001b[0m\u001b[0m\n\u001b[0m\u001b[0;32m      7\u001b[0m \u001b[1;33m\u001b[0m\u001b[0m\n\u001b[0;32m      8\u001b[0m       \u001b[1;31m# Replace every tab with comma\u001b[0m\u001b[1;33m\u001b[0m\u001b[1;33m\u001b[0m\u001b[1;33m\u001b[0m\u001b[0m\n",
      "\u001b[1;31mUnicodeDecodeError\u001b[0m: 'gbk' codec can't decode byte 0x93 in position 3034: illegal multibyte sequence"
     ]
    }
   ],
   "source": [
    "import re\n",
    " \n",
    "# reading given tsv file\n",
    "with open(\"WikiQA-train.tsv\", 'r') as myfile: \n",
    "  with open(\"WikiQA-train.csv\", 'w') as csv_file:\n",
    "    for line in myfile:\n",
    "       \n",
    "      # Replace every tab with comma\n",
    "      fileContent = re.sub(\"\\t\", \",\", line)\n",
    "       \n",
    "      # Writing into csv file\n",
    "      csv_file.write(fileContent)\n",
    " \n",
    "# output\n",
    "print(\"Successfully made csv file\")"
   ]
  },
  {
   "cell_type": "code",
   "execution_count": 49,
   "id": "1eb84f1d",
   "metadata": {},
   "outputs": [],
   "source": [
    "filee = pd.read_csv(\"train2.csv\")\n",
    "question = filee['Question']\n",
    "\n",
    "file = open('train.csv', 'w+', newline ='', encoding = 'utf-8')\n",
    "new = [] \n",
    "\n",
    "    \n",
    "for i in question:\n",
    "    t = i.split('\\t')\n",
    "    new.append(t)\n",
    "with file:   \n",
    "    write = csv.writer(file)\n",
    "    write.writerows(new)\n",
    "data_file.close()"
   ]
  },
  {
   "cell_type": "code",
   "execution_count": 45,
   "id": "41073694",
   "metadata": {},
   "outputs": [
    {
     "name": "stdout",
     "output_type": "stream",
     "text": [
      "     how are glacier caves formed ?\\tA partly submerged glacier cave on Perito Moreno Glacier .\\t0\n",
      "0     how are glacier caves formed ?\\tThe ice facade...                                           \n",
      "1     how are glacier caves formed ?\\tIce formations...                                           \n",
      "2     how are glacier caves formed ?\\tA glacier cave...                                           \n",
      "3     How are the directions of the velocity and for...                                           \n",
      "4     How are the directions of the velocity and for...                                           \n",
      "...                                                 ...                                           \n",
      "6656  what is section eight housing\\tThe maximum all...                                           \n",
      "6657  what is section eight housing\\tA tenant who le...                                           \n",
      "6658  what is the main type of restaurant\\tRestauran...                                           \n",
      "6659  what is us dollar worth based on\\tU.S. Federal...                                           \n",
      "6660  what is us dollar worth based on\\tThe history ...                                           \n",
      "\n",
      "[6661 rows x 1 columns]\n"
     ]
    }
   ],
   "source": [
    "print(filee)"
   ]
  },
  {
   "cell_type": "code",
   "execution_count": null,
   "id": "5469a26a",
   "metadata": {},
   "outputs": [],
   "source": []
  }
 ],
 "metadata": {
  "kernelspec": {
   "display_name": "Python 3",
   "language": "python",
   "name": "python3"
  },
  "language_info": {
   "codemirror_mode": {
    "name": "ipython",
    "version": 3
   },
   "file_extension": ".py",
   "mimetype": "text/x-python",
   "name": "python",
   "nbconvert_exporter": "python",
   "pygments_lexer": "ipython3",
   "version": "3.8.8"
  }
 },
 "nbformat": 4,
 "nbformat_minor": 5
}
